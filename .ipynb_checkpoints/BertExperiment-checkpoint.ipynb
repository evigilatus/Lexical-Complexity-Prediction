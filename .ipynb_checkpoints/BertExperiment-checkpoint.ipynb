{
 "cells": [
  {
   "cell_type": "code",
   "execution_count": 2,
   "metadata": {},
   "outputs": [],
   "source": [
    "# Libraries\n",
    "\n",
    "import matplotlib.pyplot as plt\n",
    "import pandas as pd\n",
    "import torch\n",
    "\n",
    "# Models\n",
    "\n",
    "import torch.nn as nn\n",
    "from transformers import BertTokenizer, BertModel\n",
    "\n",
    "# Training\n",
    "\n",
    "import torch.optim as optim\n",
    "\n",
    "# Evaluation\n",
    "\n",
    "from sklearn.metrics import accuracy_score, classification_report, confusion_matrix\n"
   ]
  },
  {
   "cell_type": "code",
   "execution_count": 5,
   "metadata": {},
   "outputs": [],
   "source": [
    "train_single_tsv = 'train/lcp_single_train.tsv'\n",
    "df_train_single = pd.read_csv(train_single_tsv, sep='\\t', header=0)"
   ]
  },
  {
   "cell_type": "code",
   "execution_count": 6,
   "metadata": {},
   "outputs": [
    {
     "name": "stdout",
     "output_type": "stream",
     "text": [
      "Data columns: \n",
      "\n",
      "Index(['id', 'corpus', 'sentence', 'token', 'complexity'], dtype='object')\n",
      "Total corpus len: 7232\n",
      "Subcorpus len:\n",
      "\n",
      "biomed      2576\n",
      "europarl    2512\n",
      "bible       2144\n",
      "Name: corpus, dtype: int64\n"
     ]
    }
   ],
   "source": [
    "print(\"Data columns: \\n\")\n",
    "print(df_train_single.columns)\n",
    "print(\"Total corpus len: {}\".format(len(df_train_single)))\n",
    "print(\"Subcorpus len:\\n\")\n",
    "print(df_train_single['corpus'].value_counts())"
   ]
  },
  {
   "cell_type": "code",
   "execution_count": 4,
   "metadata": {
    "scrolled": true
   },
   "outputs": [],
   "source": [
    "class Bert(nn.Module):\n",
    "\n",
    "    def __init__(self):\n",
    "        super(Bert, self).__init__()\n",
    "        \n",
    "        self.encoder = BertModel.from_pretrained(\"bert-base-uncased\")\n",
    "        # TODO Fix input dimensionality\n",
    "        self.fc1 = nn.Softmax(dim = 1) \n",
    "        \n",
    "\n",
    "    def forward(self, text, label):\n",
    "        loss, text_fea = self.encoder(text, labels=label)[:2]\n",
    "        # TODO Add fc1\n",
    "        return loss, text_fea\n",
    "    \n",
    "    \n",
    "\n",
    "bert = Bert()"
   ]
  },
  {
   "cell_type": "code",
   "execution_count": 7,
   "metadata": {},
   "outputs": [
    {
     "data": {
      "application/vnd.jupyter.widget-view+json": {
       "model_id": "e7ed6552441f49dbb0f9e2e76706e3d4",
       "version_major": 2,
       "version_minor": 0
      },
      "text/plain": [
       "HBox(children=(HTML(value='Downloading'), FloatProgress(value=0.0, max=231508.0), HTML(value='')))"
      ]
     },
     "metadata": {},
     "output_type": "display_data"
    },
    {
     "name": "stdout",
     "output_type": "stream",
     "text": [
      "\n"
     ]
    }
   ],
   "source": [
    "tokenizer = BertTokenizer.from_pretrained('bert-base-uncased')\n"
   ]
  },
  {
   "cell_type": "code",
   "execution_count": 18,
   "metadata": {},
   "outputs": [
    {
     "name": "stdout",
     "output_type": "stream",
     "text": [
      "Tokens:  {'input_ids': [[101, 2023, 2003, 1037, 6251, 1012, 1998, 2023, 2003, 2178, 2028, 2005, 24978, 2595, 1011, 1056, 1012, 102]], 'token_type_ids': [[0, 0, 0, 0, 0, 0, 0, 0, 0, 0, 0, 0, 0, 0, 0, 0, 0, 0]], 'attention_mask': [[1, 1, 1, 1, 1, 1, 1, 1, 1, 1, 1, 1, 1, 1, 1, 1, 1, 1]]}\n"
     ]
    }
   ],
   "source": [
    "tokens = tokenizer([\"This is a sentence. token\"])\n",
    "\n",
    "input_ids = tokens[\"input_ids\"]\n",
    "tokenizer.convert_ids_to_tokens(input_ids[0])\n",
    "\n",
    "print(\"Tokens: \", tokens)"
   ]
  },
  {
   "cell_type": "code",
   "execution_count": 81,
   "metadata": {},
   "outputs": [
    {
     "name": "stdout",
     "output_type": "stream",
     "text": [
      "True\n",
      "[3726, 3727, 3728]\n",
      "nan\n"
     ]
    }
   ],
   "source": [
    "print(len(df_train_single[\"token\"].tolist()) == len(df_train_single[\"sentence\"].tolist()))\n",
    "\n",
    "tokens = df_train_single[\"token\"].tolist()\n",
    "\n",
    "print([i for i in range(len(tokens)) if type(tokens[i]) != str])\n",
    "print(tokens[3726])\n",
    "\n",
    "#tokenizer(df_train_single[\"sentence\"].tolist(), df_train_single[\"token\"].tolist())\n",
    "#decoded = tokenizer.decode(encoded_dict[\"input_ids\"])"
   ]
  },
  {
   "cell_type": "code",
   "execution_count": 93,
   "metadata": {},
   "outputs": [],
   "source": [
    "#x y for word counting in sentence\n",
    "list_sentences = df_train_single[\"sentence\"].tolist()\n",
    "x = tokenizer(list_sentences)\n",
    "y = [len(i.split()) for i in list_sentences]"
   ]
  },
  {
   "cell_type": "code",
   "execution_count": 102,
   "metadata": {},
   "outputs": [
    {
     "name": "stdout",
     "output_type": "stream",
     "text": [
      "dict_keys(['input_ids', 'token_type_ids', 'attention_mask'])\n",
      "I am a fellow bondservant with you and with your brothers, the prophets, and with those who keep the words of this book.\n",
      "[101, 1045, 2572, 1037, 3507, 9547, 2121, 18941, 2007, 2017, 1998, 2007, 2115, 3428, 1010, 1996, 23172, 1010, 1998, 2007, 2216, 2040, 2562, 1996, 2616, 1997, 2023, 2338, 1012, 102]\n",
      "23\n"
     ]
    }
   ],
   "source": [
    "print(x.keys())\n",
    "print(list_sentences[1])\n",
    "print(x['input_ids'][1])\n",
    "print(y[1])"
   ]
  },
  {
   "cell_type": "code",
   "execution_count": null,
   "metadata": {},
   "outputs": [],
   "source": [
    "from torch.utils.data import Dataset\n",
    "\n",
    "class WordcountDataset(Dataset):\n",
    "    def __init__(self):\n",
    "        pass\n",
    "    \n",
    "    def __len__(self):\n",
    "        return len(df_train_single)\n",
    "    \n",
    "    def __getitem__(self, idx):\n",
    "        inp_ids = x['input_ids'][idx]\n",
    "        token_ids = x['token_type_ids'][idx]\n",
    "        attention_masks = x['attention_masks'][idx]\n",
    "        y^ = y[idx]\n",
    "        \n",
    "        \n",
    "        result = {\n",
    "            'inp_ids': torch.from_numpy(np.array(inp_ids)).float(),\n",
    "            'out': torch.from_numpy(np.array([y^])).float()\n",
    "        }\n",
    "        \n",
    "        #print(\"Idx {} fetch time: {}\".format(idx, time.time() - start))\n",
    "        return result"
   ]
  }
 ],
 "metadata": {
  "kernelspec": {
   "display_name": "Python 3",
   "language": "python",
   "name": "python3"
  },
  "language_info": {
   "codemirror_mode": {
    "name": "ipython",
    "version": 3
   },
   "file_extension": ".py",
   "mimetype": "text/x-python",
   "name": "python",
   "nbconvert_exporter": "python",
   "pygments_lexer": "ipython3",
   "version": "3.8.5"
  }
 },
 "nbformat": 4,
 "nbformat_minor": 4
}
